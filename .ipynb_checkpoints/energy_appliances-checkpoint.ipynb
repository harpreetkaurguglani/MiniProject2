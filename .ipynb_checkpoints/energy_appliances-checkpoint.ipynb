{
 "cells": [
  {
   "cell_type": "markdown",
   "id": "69d91af9-6b8f-4623-a82e-af22d7e63963",
   "metadata": {},
   "source": [
    "## Step 1. Describe your data set:\n",
    "\n",
    "* The data set was donated in the year 2017 by Luis Candanedo, University of Mons (UMONS). The data was collected to create regression models of appliances energy use in a low energy building.\n",
    "* Each appliance in the house were attached with a sensor node and the temperature and the humidity was recorded every 3.3 minutes. The average of these temperature was recorded for every 10 minutes.\n",
    "* The data was collected in the year 2016, January 11th to May 27th.\n",
    "* The outside temperatures were also recorded to check the appliances energy use in low energy buildings.\n",
    "* The data was divided into training and testing set to perform regression models to reduce the MSE of the model to predict the enrgy use by an appliance."
   ]
  },
  {
   "cell_type": "markdown",
   "id": "89438245-66b7-469d-9f20-a9c7a8eb6ac2",
   "metadata": {},
   "source": [
    "## Step 2. Load the dataset"
   ]
  },
  {
   "cell_type": "code",
   "execution_count": 2,
   "id": "11bd86ec-48c4-4f2b-a0af-fce64c50c5ba",
   "metadata": {},
   "outputs": [
    {
     "name": "stderr",
     "output_type": "stream",
     "text": [
      "── \u001b[1mAttaching packages\u001b[22m ─────────────────────────────────────── tidyverse 1.3.1 ──\n",
      "\n",
      "\u001b[32m✔\u001b[39m \u001b[34mtibble \u001b[39m 3.1.6     \u001b[32m✔\u001b[39m \u001b[34mdplyr  \u001b[39m 1.0.7\n",
      "\u001b[32m✔\u001b[39m \u001b[34mtidyr  \u001b[39m 1.1.4     \u001b[32m✔\u001b[39m \u001b[34mstringr\u001b[39m 1.4.0\n",
      "\u001b[32m✔\u001b[39m \u001b[34mreadr  \u001b[39m 2.0.1     \u001b[32m✔\u001b[39m \u001b[34mforcats\u001b[39m 0.5.1\n",
      "\u001b[32m✔\u001b[39m \u001b[34mpurrr  \u001b[39m 0.3.4     \n",
      "\n",
      "── \u001b[1mConflicts\u001b[22m ────────────────────────────────────────── tidyverse_conflicts() ──\n",
      "\u001b[31m✖\u001b[39m \u001b[34mdplyr\u001b[39m::\u001b[32mfilter()\u001b[39m masks \u001b[34mstats\u001b[39m::filter()\n",
      "\u001b[31m✖\u001b[39m \u001b[34mdplyr\u001b[39m::\u001b[32mlag()\u001b[39m    masks \u001b[34mstats\u001b[39m::lag()\n",
      "\n"
     ]
    }
   ],
   "source": [
    "library(ggplot2)\n",
    "library(tidyverse)\n"
   ]
  },
  {
   "cell_type": "code",
   "execution_count": 3,
   "id": "cd1edb08-6649-4c5e-9e7c-b076926e700d",
   "metadata": {},
   "outputs": [],
   "source": [
    "appdata<-read.csv(\"energydata_complete.csv\")"
   ]
  },
  {
   "cell_type": "markdown",
   "id": "29f75bcf-8122-44c3-acea-57f8569f2a43",
   "metadata": {},
   "source": [
    "## Step 3. Explore your dataset"
   ]
  },
  {
   "cell_type": "code",
   "execution_count": 5,
   "id": "75c40b09-7b8d-4d6b-aa02-aca52618f012",
   "metadata": {},
   "outputs": [
    {
     "data": {
      "text/html": [
       "<table class=\"dataframe\">\n",
       "<caption>A data.frame: 6 × 29</caption>\n",
       "<thead>\n",
       "\t<tr><th></th><th scope=col>date</th><th scope=col>Appliances</th><th scope=col>lights</th><th scope=col>T1</th><th scope=col>RH_1</th><th scope=col>T2</th><th scope=col>RH_2</th><th scope=col>T3</th><th scope=col>RH_3</th><th scope=col>T4</th><th scope=col>⋯</th><th scope=col>T9</th><th scope=col>RH_9</th><th scope=col>T_out</th><th scope=col>Press_mm_hg</th><th scope=col>RH_out</th><th scope=col>Windspeed</th><th scope=col>Visibility</th><th scope=col>Tdewpoint</th><th scope=col>rv1</th><th scope=col>rv2</th></tr>\n",
       "\t<tr><th></th><th scope=col>&lt;chr&gt;</th><th scope=col>&lt;int&gt;</th><th scope=col>&lt;int&gt;</th><th scope=col>&lt;dbl&gt;</th><th scope=col>&lt;dbl&gt;</th><th scope=col>&lt;dbl&gt;</th><th scope=col>&lt;dbl&gt;</th><th scope=col>&lt;dbl&gt;</th><th scope=col>&lt;dbl&gt;</th><th scope=col>&lt;dbl&gt;</th><th scope=col>⋯</th><th scope=col>&lt;dbl&gt;</th><th scope=col>&lt;dbl&gt;</th><th scope=col>&lt;dbl&gt;</th><th scope=col>&lt;dbl&gt;</th><th scope=col>&lt;dbl&gt;</th><th scope=col>&lt;dbl&gt;</th><th scope=col>&lt;dbl&gt;</th><th scope=col>&lt;dbl&gt;</th><th scope=col>&lt;dbl&gt;</th><th scope=col>&lt;dbl&gt;</th></tr>\n",
       "</thead>\n",
       "<tbody>\n",
       "\t<tr><th scope=row>1</th><td>2016-01-11 17:00:00</td><td>60</td><td>30</td><td>19.89</td><td>47.59667</td><td>19.2</td><td>44.79000</td><td>19.79</td><td>44.73000</td><td>19.00000</td><td>⋯</td><td>17.03333</td><td>45.53</td><td>6.600000</td><td>733.5</td><td>92</td><td>7.000000</td><td>63.00000</td><td>5.3</td><td>13.27543</td><td>13.27543</td></tr>\n",
       "\t<tr><th scope=row>2</th><td>2016-01-11 17:10:00</td><td>60</td><td>30</td><td>19.89</td><td>46.69333</td><td>19.2</td><td>44.72250</td><td>19.79</td><td>44.79000</td><td>19.00000</td><td>⋯</td><td>17.06667</td><td>45.56</td><td>6.483333</td><td>733.6</td><td>92</td><td>6.666667</td><td>59.16667</td><td>5.2</td><td>18.60619</td><td>18.60619</td></tr>\n",
       "\t<tr><th scope=row>3</th><td>2016-01-11 17:20:00</td><td>50</td><td>30</td><td>19.89</td><td>46.30000</td><td>19.2</td><td>44.62667</td><td>19.79</td><td>44.93333</td><td>18.92667</td><td>⋯</td><td>17.00000</td><td>45.50</td><td>6.366667</td><td>733.7</td><td>92</td><td>6.333333</td><td>55.33333</td><td>5.1</td><td>28.64267</td><td>28.64267</td></tr>\n",
       "\t<tr><th scope=row>4</th><td>2016-01-11 17:30:00</td><td>50</td><td>40</td><td>19.89</td><td>46.06667</td><td>19.2</td><td>44.59000</td><td>19.79</td><td>45.00000</td><td>18.89000</td><td>⋯</td><td>17.00000</td><td>45.40</td><td>6.250000</td><td>733.8</td><td>92</td><td>6.000000</td><td>51.50000</td><td>5.0</td><td>45.41039</td><td>45.41039</td></tr>\n",
       "\t<tr><th scope=row>5</th><td>2016-01-11 17:40:00</td><td>60</td><td>40</td><td>19.89</td><td>46.33333</td><td>19.2</td><td>44.53000</td><td>19.79</td><td>45.00000</td><td>18.89000</td><td>⋯</td><td>17.00000</td><td>45.40</td><td>6.133333</td><td>733.9</td><td>92</td><td>5.666667</td><td>47.66667</td><td>4.9</td><td>10.08410</td><td>10.08410</td></tr>\n",
       "\t<tr><th scope=row>6</th><td>2016-01-11 17:50:00</td><td>50</td><td>40</td><td>19.89</td><td>46.02667</td><td>19.2</td><td>44.50000</td><td>19.79</td><td>44.93333</td><td>18.89000</td><td>⋯</td><td>17.00000</td><td>45.29</td><td>6.016667</td><td>734.0</td><td>92</td><td>5.333333</td><td>43.83333</td><td>4.8</td><td>44.91948</td><td>44.91948</td></tr>\n",
       "</tbody>\n",
       "</table>\n"
      ],
      "text/latex": [
       "A data.frame: 6 × 29\n",
       "\\begin{tabular}{r|lllllllllllllllllllll}\n",
       "  & date & Appliances & lights & T1 & RH\\_1 & T2 & RH\\_2 & T3 & RH\\_3 & T4 & ⋯ & T9 & RH\\_9 & T\\_out & Press\\_mm\\_hg & RH\\_out & Windspeed & Visibility & Tdewpoint & rv1 & rv2\\\\\n",
       "  & <chr> & <int> & <int> & <dbl> & <dbl> & <dbl> & <dbl> & <dbl> & <dbl> & <dbl> & ⋯ & <dbl> & <dbl> & <dbl> & <dbl> & <dbl> & <dbl> & <dbl> & <dbl> & <dbl> & <dbl>\\\\\n",
       "\\hline\n",
       "\t1 & 2016-01-11 17:00:00 & 60 & 30 & 19.89 & 47.59667 & 19.2 & 44.79000 & 19.79 & 44.73000 & 19.00000 & ⋯ & 17.03333 & 45.53 & 6.600000 & 733.5 & 92 & 7.000000 & 63.00000 & 5.3 & 13.27543 & 13.27543\\\\\n",
       "\t2 & 2016-01-11 17:10:00 & 60 & 30 & 19.89 & 46.69333 & 19.2 & 44.72250 & 19.79 & 44.79000 & 19.00000 & ⋯ & 17.06667 & 45.56 & 6.483333 & 733.6 & 92 & 6.666667 & 59.16667 & 5.2 & 18.60619 & 18.60619\\\\\n",
       "\t3 & 2016-01-11 17:20:00 & 50 & 30 & 19.89 & 46.30000 & 19.2 & 44.62667 & 19.79 & 44.93333 & 18.92667 & ⋯ & 17.00000 & 45.50 & 6.366667 & 733.7 & 92 & 6.333333 & 55.33333 & 5.1 & 28.64267 & 28.64267\\\\\n",
       "\t4 & 2016-01-11 17:30:00 & 50 & 40 & 19.89 & 46.06667 & 19.2 & 44.59000 & 19.79 & 45.00000 & 18.89000 & ⋯ & 17.00000 & 45.40 & 6.250000 & 733.8 & 92 & 6.000000 & 51.50000 & 5.0 & 45.41039 & 45.41039\\\\\n",
       "\t5 & 2016-01-11 17:40:00 & 60 & 40 & 19.89 & 46.33333 & 19.2 & 44.53000 & 19.79 & 45.00000 & 18.89000 & ⋯ & 17.00000 & 45.40 & 6.133333 & 733.9 & 92 & 5.666667 & 47.66667 & 4.9 & 10.08410 & 10.08410\\\\\n",
       "\t6 & 2016-01-11 17:50:00 & 50 & 40 & 19.89 & 46.02667 & 19.2 & 44.50000 & 19.79 & 44.93333 & 18.89000 & ⋯ & 17.00000 & 45.29 & 6.016667 & 734.0 & 92 & 5.333333 & 43.83333 & 4.8 & 44.91948 & 44.91948\\\\\n",
       "\\end{tabular}\n"
      ],
      "text/markdown": [
       "\n",
       "A data.frame: 6 × 29\n",
       "\n",
       "| <!--/--> | date &lt;chr&gt; | Appliances &lt;int&gt; | lights &lt;int&gt; | T1 &lt;dbl&gt; | RH_1 &lt;dbl&gt; | T2 &lt;dbl&gt; | RH_2 &lt;dbl&gt; | T3 &lt;dbl&gt; | RH_3 &lt;dbl&gt; | T4 &lt;dbl&gt; | ⋯ ⋯ | T9 &lt;dbl&gt; | RH_9 &lt;dbl&gt; | T_out &lt;dbl&gt; | Press_mm_hg &lt;dbl&gt; | RH_out &lt;dbl&gt; | Windspeed &lt;dbl&gt; | Visibility &lt;dbl&gt; | Tdewpoint &lt;dbl&gt; | rv1 &lt;dbl&gt; | rv2 &lt;dbl&gt; |\n",
       "|---|---|---|---|---|---|---|---|---|---|---|---|---|---|---|---|---|---|---|---|---|---|\n",
       "| 1 | 2016-01-11 17:00:00 | 60 | 30 | 19.89 | 47.59667 | 19.2 | 44.79000 | 19.79 | 44.73000 | 19.00000 | ⋯ | 17.03333 | 45.53 | 6.600000 | 733.5 | 92 | 7.000000 | 63.00000 | 5.3 | 13.27543 | 13.27543 |\n",
       "| 2 | 2016-01-11 17:10:00 | 60 | 30 | 19.89 | 46.69333 | 19.2 | 44.72250 | 19.79 | 44.79000 | 19.00000 | ⋯ | 17.06667 | 45.56 | 6.483333 | 733.6 | 92 | 6.666667 | 59.16667 | 5.2 | 18.60619 | 18.60619 |\n",
       "| 3 | 2016-01-11 17:20:00 | 50 | 30 | 19.89 | 46.30000 | 19.2 | 44.62667 | 19.79 | 44.93333 | 18.92667 | ⋯ | 17.00000 | 45.50 | 6.366667 | 733.7 | 92 | 6.333333 | 55.33333 | 5.1 | 28.64267 | 28.64267 |\n",
       "| 4 | 2016-01-11 17:30:00 | 50 | 40 | 19.89 | 46.06667 | 19.2 | 44.59000 | 19.79 | 45.00000 | 18.89000 | ⋯ | 17.00000 | 45.40 | 6.250000 | 733.8 | 92 | 6.000000 | 51.50000 | 5.0 | 45.41039 | 45.41039 |\n",
       "| 5 | 2016-01-11 17:40:00 | 60 | 40 | 19.89 | 46.33333 | 19.2 | 44.53000 | 19.79 | 45.00000 | 18.89000 | ⋯ | 17.00000 | 45.40 | 6.133333 | 733.9 | 92 | 5.666667 | 47.66667 | 4.9 | 10.08410 | 10.08410 |\n",
       "| 6 | 2016-01-11 17:50:00 | 50 | 40 | 19.89 | 46.02667 | 19.2 | 44.50000 | 19.79 | 44.93333 | 18.89000 | ⋯ | 17.00000 | 45.29 | 6.016667 | 734.0 | 92 | 5.333333 | 43.83333 | 4.8 | 44.91948 | 44.91948 |\n",
       "\n"
      ],
      "text/plain": [
       "  date                Appliances lights T1    RH_1     T2   RH_2     T3   \n",
       "1 2016-01-11 17:00:00 60         30     19.89 47.59667 19.2 44.79000 19.79\n",
       "2 2016-01-11 17:10:00 60         30     19.89 46.69333 19.2 44.72250 19.79\n",
       "3 2016-01-11 17:20:00 50         30     19.89 46.30000 19.2 44.62667 19.79\n",
       "4 2016-01-11 17:30:00 50         40     19.89 46.06667 19.2 44.59000 19.79\n",
       "5 2016-01-11 17:40:00 60         40     19.89 46.33333 19.2 44.53000 19.79\n",
       "6 2016-01-11 17:50:00 50         40     19.89 46.02667 19.2 44.50000 19.79\n",
       "  RH_3     T4       ⋯ T9       RH_9  T_out    Press_mm_hg RH_out Windspeed\n",
       "1 44.73000 19.00000 ⋯ 17.03333 45.53 6.600000 733.5       92     7.000000 \n",
       "2 44.79000 19.00000 ⋯ 17.06667 45.56 6.483333 733.6       92     6.666667 \n",
       "3 44.93333 18.92667 ⋯ 17.00000 45.50 6.366667 733.7       92     6.333333 \n",
       "4 45.00000 18.89000 ⋯ 17.00000 45.40 6.250000 733.8       92     6.000000 \n",
       "5 45.00000 18.89000 ⋯ 17.00000 45.40 6.133333 733.9       92     5.666667 \n",
       "6 44.93333 18.89000 ⋯ 17.00000 45.29 6.016667 734.0       92     5.333333 \n",
       "  Visibility Tdewpoint rv1      rv2     \n",
       "1 63.00000   5.3       13.27543 13.27543\n",
       "2 59.16667   5.2       18.60619 18.60619\n",
       "3 55.33333   5.1       28.64267 28.64267\n",
       "4 51.50000   5.0       45.41039 45.41039\n",
       "5 47.66667   4.9       10.08410 10.08410\n",
       "6 43.83333   4.8       44.91948 44.91948"
      ]
     },
     "metadata": {},
     "output_type": "display_data"
    }
   ],
   "source": [
    "head(appdata)"
   ]
  },
  {
   "cell_type": "markdown",
   "id": "cdea9ec9-8180-4de8-9d95-4a686e0fa650",
   "metadata": {},
   "source": [
    "* The data consists of 29 columns \n",
    "* T and the RH values represent the temperature and humidity recorded for an appliance.\n",
    "* The first column consists of the date and time the temperature was recorded for the appliances.\n",
    "\n"
   ]
  },
  {
   "cell_type": "code",
   "execution_count": 6,
   "id": "bbbbe2f8-9825-4796-a95d-27513cddf8c8",
   "metadata": {},
   "outputs": [
    {
     "data": {
      "text/plain": [
       "     date             Appliances         lights             T1       \n",
       " Length:19735       Min.   :  10.0   Min.   : 0.000   Min.   :16.79  \n",
       " Class :character   1st Qu.:  50.0   1st Qu.: 0.000   1st Qu.:20.76  \n",
       " Mode  :character   Median :  60.0   Median : 0.000   Median :21.60  \n",
       "                    Mean   :  97.7   Mean   : 3.802   Mean   :21.69  \n",
       "                    3rd Qu.: 100.0   3rd Qu.: 0.000   3rd Qu.:22.60  \n",
       "                    Max.   :1080.0   Max.   :70.000   Max.   :26.26  \n",
       "      RH_1             T2             RH_2             T3       \n",
       " Min.   :27.02   Min.   :16.10   Min.   :20.46   Min.   :17.20  \n",
       " 1st Qu.:37.33   1st Qu.:18.79   1st Qu.:37.90   1st Qu.:20.79  \n",
       " Median :39.66   Median :20.00   Median :40.50   Median :22.10  \n",
       " Mean   :40.26   Mean   :20.34   Mean   :40.42   Mean   :22.27  \n",
       " 3rd Qu.:43.07   3rd Qu.:21.50   3rd Qu.:43.26   3rd Qu.:23.29  \n",
       " Max.   :63.36   Max.   :29.86   Max.   :56.03   Max.   :29.24  \n",
       "      RH_3             T4             RH_4             T5       \n",
       " Min.   :28.77   Min.   :15.10   Min.   :27.66   Min.   :15.33  \n",
       " 1st Qu.:36.90   1st Qu.:19.53   1st Qu.:35.53   1st Qu.:18.28  \n",
       " Median :38.53   Median :20.67   Median :38.40   Median :19.39  \n",
       " Mean   :39.24   Mean   :20.86   Mean   :39.03   Mean   :19.59  \n",
       " 3rd Qu.:41.76   3rd Qu.:22.10   3rd Qu.:42.16   3rd Qu.:20.62  \n",
       " Max.   :50.16   Max.   :26.20   Max.   :51.09   Max.   :25.80  \n",
       "      RH_5             T6              RH_6             T7       \n",
       " Min.   :29.82   Min.   :-6.065   Min.   : 1.00   Min.   :15.39  \n",
       " 1st Qu.:45.40   1st Qu.: 3.627   1st Qu.:30.02   1st Qu.:18.70  \n",
       " Median :49.09   Median : 7.300   Median :55.29   Median :20.03  \n",
       " Mean   :50.95   Mean   : 7.911   Mean   :54.61   Mean   :20.27  \n",
       " 3rd Qu.:53.66   3rd Qu.:11.256   3rd Qu.:83.23   3rd Qu.:21.60  \n",
       " Max.   :96.32   Max.   :28.290   Max.   :99.90   Max.   :26.00  \n",
       "      RH_7             T8             RH_8             T9       \n",
       " Min.   :23.20   Min.   :16.31   Min.   :29.60   Min.   :14.89  \n",
       " 1st Qu.:31.50   1st Qu.:20.79   1st Qu.:39.07   1st Qu.:18.00  \n",
       " Median :34.86   Median :22.10   Median :42.38   Median :19.39  \n",
       " Mean   :35.39   Mean   :22.03   Mean   :42.94   Mean   :19.49  \n",
       " 3rd Qu.:39.00   3rd Qu.:23.39   3rd Qu.:46.54   3rd Qu.:20.60  \n",
       " Max.   :51.40   Max.   :27.23   Max.   :58.78   Max.   :24.50  \n",
       "      RH_9           T_out         Press_mm_hg        RH_out      \n",
       " Min.   :29.17   Min.   :-5.000   Min.   :729.3   Min.   : 24.00  \n",
       " 1st Qu.:38.50   1st Qu.: 3.667   1st Qu.:750.9   1st Qu.: 70.33  \n",
       " Median :40.90   Median : 6.917   Median :756.1   Median : 83.67  \n",
       " Mean   :41.55   Mean   : 7.412   Mean   :755.5   Mean   : 79.75  \n",
       " 3rd Qu.:44.34   3rd Qu.:10.408   3rd Qu.:760.9   3rd Qu.: 91.67  \n",
       " Max.   :53.33   Max.   :26.100   Max.   :772.3   Max.   :100.00  \n",
       "   Windspeed        Visibility      Tdewpoint           rv1          \n",
       " Min.   : 0.000   Min.   : 1.00   Min.   :-6.600   Min.   : 0.00532  \n",
       " 1st Qu.: 2.000   1st Qu.:29.00   1st Qu.: 0.900   1st Qu.:12.49789  \n",
       " Median : 3.667   Median :40.00   Median : 3.433   Median :24.89765  \n",
       " Mean   : 4.040   Mean   :38.33   Mean   : 3.761   Mean   :24.98803  \n",
       " 3rd Qu.: 5.500   3rd Qu.:40.00   3rd Qu.: 6.567   3rd Qu.:37.58377  \n",
       " Max.   :14.000   Max.   :66.00   Max.   :15.500   Max.   :49.99653  \n",
       "      rv2          \n",
       " Min.   : 0.00532  \n",
       " 1st Qu.:12.49789  \n",
       " Median :24.89765  \n",
       " Mean   :24.98803  \n",
       " 3rd Qu.:37.58377  \n",
       " Max.   :49.99653  "
      ]
     },
     "metadata": {},
     "output_type": "display_data"
    }
   ],
   "source": [
    "summary(appdata)"
   ]
  },
  {
   "cell_type": "markdown",
   "id": "6abda940-4773-41a1-b33d-63b987b9dcb4",
   "metadata": {},
   "source": [
    "## Step 4. Initial thoughts\n"
   ]
  },
  {
   "cell_type": "code",
   "execution_count": null,
   "id": "767bd2ec-c79e-460d-b600-f227236208c1",
   "metadata": {},
   "outputs": [],
   "source": []
  },
  {
   "cell_type": "markdown",
   "id": "3a3544d8-b363-40d6-9efe-fe2b7789ee6a",
   "metadata": {},
   "source": [
    "## Step 5. Data Wrangling\n"
   ]
  },
  {
   "cell_type": "code",
   "execution_count": 10,
   "id": "ae6d323d-4be2-4775-8e71-08be93f91a8d",
   "metadata": {},
   "outputs": [],
   "source": [
    "#The last 2 columns consist of random variables used for testing the regression model which can be dropped here\n",
    "drops <- c(\"rv1\",\"rv2\")\n",
    "appdata<-appdata[ , !(names(appdata) %in% drops)]"
   ]
  },
  {
   "cell_type": "code",
   "execution_count": 12,
   "id": "4364477d-8b86-4e25-8bde-c4694b5efbde",
   "metadata": {},
   "outputs": [
    {
     "data": {
      "text/html": [
       "0"
      ],
      "text/latex": [
       "0"
      ],
      "text/markdown": [
       "0"
      ],
      "text/plain": [
       "[1] 0"
      ]
     },
     "metadata": {},
     "output_type": "display_data"
    }
   ],
   "source": [
    "sum(is.na(appdata))\n",
    "#No NA values present in the data"
   ]
  },
  {
   "cell_type": "markdown",
   "id": "8276aacb-577d-467d-9306-d34bc81c82c6",
   "metadata": {},
   "source": [
    "## Step 6. Reasearch Question\n",
    "\n",
    "1. Which appliance consumes the maximum and minimum amount of energy\n",
    "2. "
   ]
  },
  {
   "cell_type": "code",
   "execution_count": null,
   "id": "a833bc13-6033-4d53-9142-59a95a4a0627",
   "metadata": {},
   "outputs": [],
   "source": []
  }
 ],
 "metadata": {
  "kernelspec": {
   "display_name": "R",
   "language": "R",
   "name": "ir"
  },
  "language_info": {
   "codemirror_mode": "r",
   "file_extension": ".r",
   "mimetype": "text/x-r-source",
   "name": "R",
   "pygments_lexer": "r",
   "version": "4.1.1"
  }
 },
 "nbformat": 4,
 "nbformat_minor": 5
}
