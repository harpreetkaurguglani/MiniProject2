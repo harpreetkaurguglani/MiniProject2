{
 "cells": [
  {
   "cell_type": "code",
   "execution_count": 3,
   "id": "c02984f3-2cc2-42f0-aa52-25d5d162265c",
   "metadata": {},
   "outputs": [
    {
     "name": "stderr",
     "output_type": "stream",
     "text": [
      "\n",
      "Attaching package: 'lubridate'\n",
      "\n",
      "\n",
      "The following objects are masked from 'package:base':\n",
      "\n",
      "    date, intersect, setdiff, union\n",
      "\n",
      "\n"
     ]
    }
   ],
   "source": [
    "library(dplyr)\n",
    "library(reshape2)\n",
    "library(plotly)\n",
    "library(lubridate)"
   ]
  },
  {
   "cell_type": "code",
   "execution_count": 4,
   "id": "4296bc32-dea8-404c-af35-07bccb9d11af",
   "metadata": {},
   "outputs": [
    {
     "ename": "ERROR",
     "evalue": "Error in `$<-.data.frame`(`*tmp*`, Day_of_week, value = structure(integer(0), .Label = character(0), class = \"factor\")): replacement has 0 rows, data has 19735\n",
     "output_type": "error",
     "traceback": [
      "Error in `$<-.data.frame`(`*tmp*`, Day_of_week, value = structure(integer(0), .Label = character(0), class = \"factor\")): replacement has 0 rows, data has 19735\nTraceback:\n",
      "1. `$<-`(`*tmp*`, Day_of_week, value = structure(integer(0), .Label = character(0), class = \"factor\"))",
      "2. `$<-.data.frame`(`*tmp*`, Day_of_week, value = structure(integer(0), .Label = character(0), class = \"factor\"))",
      "3. stop(sprintf(ngettext(N, \"replacement has %d row, data has %d\", \n .     \"replacement has %d rows, data has %d\"), N, nrows), domain = NA)"
     ]
    }
   ],
   "source": [
    "energy_data<-read.csv(\"energydata_complete.csv\")\n",
    "energy_data$date <- strptime(as.character(energy_data$date),format=\"%Y-%m-%d %H:%M:%S\") \n",
    "energy_data$date <- as.POSIXct(energy_data$date,tz = \"UTC\") \n",
    "energy_data$mhr <- floor_date(energy_data$date,\"hour\")\n",
    "energy_data$Day_of_week <- as.factor(energy_data$Day_of_week)\n",
    "energy_data$WeekStatus <- unlist(lapply(energy_data$date, weekend_weekday))"
   ]
  },
  {
   "cell_type": "markdown",
   "id": "48ba7dc9-439d-44c1-ab3e-580cbefd8126",
   "metadata": {},
   "source": [
    "#### Analyzing the energy trend of appliances with respect to the date & time "
   ]
  },
  {
   "cell_type": "markdown",
   "id": "8097b367-5f7e-4962-9db9-a5a81bd1ec13",
   "metadata": {},
   "source": [
    "## Detect the impact of temperature outside on the consumed energy on appliances\n",
    "Detect the impact of temperature outside for the first week of January 2016 on the appliances energy consumed in order to maintain the temperature inside the living room of a house. The plots plotted are below:\n",
    "\n",
    "Left plot - Weekday v/s weekend energy consumed for January\n",
    "Right plot - Impact of outside temperature on the temperature of living room\n",
    "\n",
    "Comparison has been made for the weekdays and weekends consumed units of energy in Kwh during the winter season."
   ]
  },
  {
   "cell_type": "code",
   "execution_count": null,
   "id": "4f8629b7-323a-4b69-a1cd-5cf8ba612e16",
   "metadata": {},
   "outputs": [],
   "source": [
    "options(repr.plot.width=8, repr.plot.height=6)\n",
    "temperature_subset <- select(energy_data, date, T2, T_out)\n",
    "temperature_subset_melt <- melt(temperature_subset, id = c(\"date\"))\n",
    "temperature_melt_subset <- subset(temperature_subset_melt, date > \"2016-01-10\" & date < \"2016-01-17\")\n",
    "plot2 <- ggplot(temperature_melt_subset, aes(x = date, y = value, colour = variable)) +\n",
    "  geom_line() +\n",
    "  labs(title = \"TEMPERATURE INSIDE v/s OUTSIDE FOR JANUARY\") +\n",
    "  theme_bw() +\n",
    "  theme(text = element_text(size = 11, family = \"serif\")) +\n",
    "  labs(y = \"TEMPERATURE (in Celius) \", x = \"JANUARY 1st WEEK\", col = \"SIDE\")\n",
    "#plot2 <- ggplotly(plot2, width = 700, height = 350)\n",
    "plot2"
   ]
  },
  {
   "cell_type": "code",
   "execution_count": 5,
   "id": "f022eb61-b1c4-4562-a258-e1fc00171543",
   "metadata": {},
   "outputs": [],
   "source": [
    "energy_data$Day_of_week <- weekdays(energy_data$date)\n",
    "weekend_weekday <- function(x) {\n",
    "  val <- weekdays(x)\n",
    "  if (val == \"Saturday\" | val == \"Sunday\") {\n",
    "    val2 <- \"Weekend\"\n",
    "  } else {\n",
    "    val2 <- \"Weekday\"\n",
    "  }\n",
    "  return(val2)\n",
    "}"
   ]
  },
  {
   "cell_type": "code",
   "execution_count": null,
   "id": "61b5bd0a-224b-4797-8203-947c8e4e98ca",
   "metadata": {},
   "outputs": [],
   "source": [
    "energy_data$Day_of_week <- as.factor(energy_data$Day_of_week)\n",
    "energy_data$WeekStatus <- unlist(lapply(energy_data$date, weekend_weekday))\n",
    "data_weekstatus <- select(energy_data, date, WeekStatus, Appliances, mhr)\n",
    "data_weekstatus$Appliances <- data_weekstatus$Appliances/1000\n",
    "data_weekstatus_subset <- subset(data_weekstatus, date > \"2016-01-10\" & date < \"2016-01-17\")\n",
    "options(repr.plot.width=8, repr.plot.height=6)\n",
    "plot1 <- ggplot(data_weekstatus_subset, aes(x = date, y = Appliances, colour = WeekStatus)) +\n",
    "  geom_line() +\n",
    "  ylim(0, 1) +\n",
    "  labs(title = \"WEEKDAY v/s WEEKEND ENERGY CONSUMED FOR JANUARY\") +\n",
    "  theme_bw() +\n",
    "  theme(text = element_text(size = 11, family = \"serif\")) +\n",
    "  labs(y = \"APPLIANCE - energy use in KWh\", x = \"JANUARY 1st WEEK\", col = \"WEEKSTATUS\")"
   ]
  },
  {
   "cell_type": "code",
   "execution_count": null,
   "id": "8587b2cc-cc5d-4902-af21-19fcd6f03dff",
   "metadata": {},
   "outputs": [],
   "source": [
    "options(repr.plot.width=20, repr.plot.height=8)\n",
    "plot1 + plot2 + plot_annotation(\n",
    "  title = 'Impact of temperature outside on the consumed energy',theme = theme(plot.title = element_text(size = 25,face=\"bold\")))"
   ]
  }
 ],
 "metadata": {
  "kernelspec": {
   "display_name": "R",
   "language": "R",
   "name": "ir"
  },
  "language_info": {
   "codemirror_mode": "r",
   "file_extension": ".r",
   "mimetype": "text/x-r-source",
   "name": "R",
   "pygments_lexer": "r",
   "version": "4.1.1"
  }
 },
 "nbformat": 4,
 "nbformat_minor": 5
}
