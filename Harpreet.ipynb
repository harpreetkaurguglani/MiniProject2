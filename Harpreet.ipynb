{
 "cells": [
  {
   "cell_type": "code",
   "execution_count": 1,
   "id": "c02984f3-2cc2-42f0-aa52-25d5d162265c",
   "metadata": {},
   "outputs": [
    {
     "name": "stderr",
     "output_type": "stream",
     "text": [
      "Warning message:\n",
      "\"package 'ggplot2' was built under R version 4.1.2\"\n",
      "Warning message:\n",
      "\"package 'tidyverse' was built under R version 4.1.2\"\n",
      "-- \u001b[1mAttaching packages\u001b[22m ------------------------------------------------------------------------------- tidyverse 1.3.1 --\n",
      "\n",
      "\u001b[32mv\u001b[39m \u001b[34mtibble \u001b[39m 3.1.6     \u001b[32mv\u001b[39m \u001b[34mdplyr  \u001b[39m 1.0.7\n",
      "\u001b[32mv\u001b[39m \u001b[34mtidyr  \u001b[39m 1.1.4     \u001b[32mv\u001b[39m \u001b[34mstringr\u001b[39m 1.4.0\n",
      "\u001b[32mv\u001b[39m \u001b[34mreadr  \u001b[39m 2.0.1     \u001b[32mv\u001b[39m \u001b[34mforcats\u001b[39m 0.5.1\n",
      "\u001b[32mv\u001b[39m \u001b[34mpurrr  \u001b[39m 0.3.4     \n",
      "\n",
      "Warning message:\n",
      "\"package 'tibble' was built under R version 4.1.2\"\n",
      "-- \u001b[1mConflicts\u001b[22m ---------------------------------------------------------------------------------- tidyverse_conflicts() --\n",
      "\u001b[31mx\u001b[39m \u001b[34mdplyr\u001b[39m::\u001b[32mfilter()\u001b[39m masks \u001b[34mstats\u001b[39m::filter()\n",
      "\u001b[31mx\u001b[39m \u001b[34mdplyr\u001b[39m::\u001b[32mlag()\u001b[39m    masks \u001b[34mstats\u001b[39m::lag()\n",
      "\n"
     ]
    }
   ],
   "source": [
    "library(ggplot2)\n",
    "library(tidyverse)\n",
    "library(dplyr)"
   ]
  },
  {
   "cell_type": "code",
   "execution_count": 3,
   "id": "4296bc32-dea8-404c-af35-07bccb9d11af",
   "metadata": {},
   "outputs": [],
   "source": [
    "energy_data<-read.csv(\"energydata_complete.csv\")\n",
    "energy_data$date <- strptime(as.character(energy_data$date),format=\"%Y-%m-%d %H:%M:%S\") \n",
    "energy_data$date <- as.POSIXct(energy_data$date,tz = \"UTC\") "
   ]
  },
  {
   "cell_type": "code",
   "execution_count": 4,
   "id": "6fb68f61-2fd6-4835-860c-697855f27223",
   "metadata": {},
   "outputs": [
    {
     "data": {
      "image/png": "[encoded data removed]",
      "text/plain": [
       "plot without title"
      ]
     },
     "metadata": {
      "image/png": {
       "height": 420,
       "width": 420
      }
     },
     "output_type": "display_data"
    }
   ],
   "source": [
    "boxplot(energy_data$Appliances,\n",
    "        boxfill = \"lightblue\",horizontal=TRUE,ylim=c(0,1200),xlab=\"Appliances Wh\",frame=F,\n",
    "        cex.lab=1.5, cex.axis=1.5, cex.main=1.5, cex.sub=1.5)"
   ]
  },
  {
   "cell_type": "code",
   "execution_count": 7,
   "id": "266c24ba-ae4c-4a29-bb60-544c1e8e36f5",
   "metadata": {},
   "outputs": [
    {
     "name": "stderr",
     "output_type": "stream",
     "text": [
      "corrplot 0.90 loaded\n",
      "\n",
      "Warning message:\n",
      "\"package 'psych' was built under R version 4.1.2\"\n",
      "\n",
      "Attaching package: 'psych'\n",
      "\n",
      "\n",
      "The following objects are masked from 'package:ggplot2':\n",
      "\n",
      "    %+%, alpha\n",
      "\n",
      "\n",
      "\n",
      "Attaching package: 'lubridate'\n",
      "\n",
      "\n",
      "The following objects are masked from 'package:base':\n",
      "\n",
      "    date, intersect, setdiff, union\n",
      "\n",
      "\n"
     ]
    }
   ],
   "source": [
    "library(corrplot)  \n",
    "library(psych)\n",
    "library(lubridate)"
   ]
  },
  {
   "cell_type": "code",
   "execution_count": 8,
   "id": "3b83cfe9-7df6-400b-991a-553e7cb161e1",
   "metadata": {},
   "outputs": [],
   "source": [
    "weekend_weekday <- function(x) {\n",
    "  val <- weekdays(x)\n",
    "  if (val == \"Saturday\" | val == \"Sunday\") {\n",
    "    val2 = \"Weekend\"\n",
    "  }\n",
    "  else {\n",
    "    val2= \"Weekday\"\n",
    "  }\n",
    "  return(val2)\n",
    "}\n",
    "\n",
    "\n",
    "second_day <- function(x) {\n",
    "  # x is an object in posixct format\n",
    "  s <- hour(x)*3600+minute(x)*60+second(x)\n",
    "  \n",
    "}\n"
   ]
  },
  {
   "cell_type": "code",
   "execution_count": 9,
   "id": "3b517511-a5fa-41fd-9b09-2d92c0b98907",
   "metadata": {},
   "outputs": [
    {
     "data": {
      "text/html": [
       "<style>\n",
       ".list-inline {list-style: none; margin:0; padding: 0}\n",
       ".list-inline>li {display: inline-block}\n",
       ".list-inline>li:not(:last-child)::after {content: \"\\00b7\"; padding: 0 .5ex}\n",
       "</style>\n",
       "<ol class=list-inline><li>'Weekday'</li><li>'Weekend'</li></ol>\n"
      ],
      "text/latex": [
       "\\begin{enumerate*}\n",
       "\\item 'Weekday'\n",
       "\\item 'Weekend'\n",
       "\\end{enumerate*}\n"
      ],
      "text/markdown": [
       "1. 'Weekday'\n",
       "2. 'Weekend'\n",
       "\n",
       "\n"
      ],
      "text/plain": [
       "[1] \"Weekday\" \"Weekend\""
      ]
     },
     "metadata": {},
     "output_type": "display_data"
    },
    {
     "data": {
      "text/html": [
       "<style>\n",
       ".list-inline {list-style: none; margin:0; padding: 0}\n",
       ".list-inline>li {display: inline-block}\n",
       ".list-inline>li:not(:last-child)::after {content: \"\\00b7\"; padding: 0 .5ex}\n",
       "</style>\n",
       "<ol class=list-inline><li>'Monday'</li><li>'Tuesday'</li><li>'Wednesday'</li><li>'Thursday'</li><li>'Friday'</li><li>'Saturday'</li><li>'Sunday'</li></ol>\n"
      ],
      "text/latex": [
       "\\begin{enumerate*}\n",
       "\\item 'Monday'\n",
       "\\item 'Tuesday'\n",
       "\\item 'Wednesday'\n",
       "\\item 'Thursday'\n",
       "\\item 'Friday'\n",
       "\\item 'Saturday'\n",
       "\\item 'Sunday'\n",
       "\\end{enumerate*}\n"
      ],
      "text/markdown": [
       "1. 'Monday'\n",
       "2. 'Tuesday'\n",
       "3. 'Wednesday'\n",
       "4. 'Thursday'\n",
       "5. 'Friday'\n",
       "6. 'Saturday'\n",
       "7. 'Sunday'\n",
       "\n",
       "\n"
      ],
      "text/plain": [
       "[1] \"Monday\"    \"Tuesday\"   \"Wednesday\" \"Thursday\"  \"Friday\"    \"Saturday\" \n",
       "[7] \"Sunday\"   "
      ]
     },
     "metadata": {},
     "output_type": "display_data"
    }
   ],
   "source": [
    "energy_data$NSM <- second_day(energy_data$date)\n",
    "\n",
    "energy_data$WeekStatus <- unlist(lapply(energy_data$date,weekend_weekday))\n",
    "\n",
    "energy_data$Day_of_week <-weekdays(energy_data$date)\n",
    "\n",
    "unique(energy_data$WeekStatus)\n",
    "\n",
    "unique(energy_data$Day_of_week)\n",
    "\n",
    "energy_data$Day_of_week <-as.factor(energy_data$Day_of_week)\n",
    "\n",
    "energy_data$WeekStatus <- as.factor(energy_data$WeekStatus)"
   ]
  },
  {
   "cell_type": "code",
   "execution_count": 10,
   "id": "0f3618e4-95c2-478d-b40c-733be22d1c73",
   "metadata": {},
   "outputs": [
    {
     "name": "stderr",
     "output_type": "stream",
     "text": [
      "Loading required package: gridExtra\n",
      "\n",
      "\n",
      "Attaching package: 'gridExtra'\n",
      "\n",
      "\n",
      "The following object is masked from 'package:dplyr':\n",
      "\n",
      "    combine\n",
      "\n",
      "\n"
     ]
    },
    {
     "data": {
      "image/png": "[encoded data removed]",
      "text/plain": [
       "plot without title"
      ]
     },
     "metadata": {
      "image/png": {
       "height": 420,
       "width": 420
      }
     },
     "output_type": "display_data"
    }
   ],
   "source": [
    "require(gridExtra)\n",
    "\n",
    "plot1 <-qplot(energy_data$date,energy_data$Appliances,xlab='Time',ylab='Appliances Wh',geom=\"line\")+theme_grey(base_size = 18) \n",
    "plot1"
   ]
  },
  {
   "cell_type": "code",
   "execution_count": 11,
   "id": "e014acda-9785-4b8a-bffc-98290ec8b7be",
   "metadata": {},
   "outputs": [
    {
     "data": {
      "image/png": "[encoded data removed]",
      "text/plain": [
       "Plot with title \"\""
      ]
     },
     "metadata": {
      "image/png": {
       "height": 420,
       "width": 420
      }
     },
     "output_type": "display_data"
    }
   ],
   "source": [
    "hist(energy_data$Appliances,main=\"\",xlab = \"Appliances Wh\",breaks = 40,\n",
    "     col='lightblue',xlim=c(0,1200),ylim=c(0,9000),cex.lab=1.5, cex.axis=1.5, cex.main=1.5, cex.sub=1.5)"
   ]
  },
  {
   "cell_type": "code",
   "execution_count": 12,
   "id": "80d3d85f-5de2-4f14-91c8-f58d1910c895",
   "metadata": {},
   "outputs": [
    {
     "name": "stderr",
     "output_type": "stream",
     "text": [
      "Warning message:\n",
      "\"package 'plyr' was built under R version 4.1.2\"\n",
      "------------------------------------------------------------------------------\n",
      "\n",
      "You have loaded plyr after dplyr - this is likely to cause problems.\n",
      "If you need functions from both plyr and dplyr, please load plyr first, then dplyr:\n",
      "library(plyr); library(dplyr)\n",
      "\n",
      "------------------------------------------------------------------------------\n",
      "\n",
      "\n",
      "Attaching package: 'plyr'\n",
      "\n",
      "\n",
      "The following objects are masked from 'package:dplyr':\n",
      "\n",
      "    arrange, count, desc, failwith, id, mutate, rename, summarise,\n",
      "    summarize\n",
      "\n",
      "\n",
      "The following object is masked from 'package:purrr':\n",
      "\n",
      "    compact\n",
      "\n",
      "\n"
     ]
    },
    {
     "data": {
      "text/html": [
       "<table class=\"dataframe\">\n",
       "<caption>A data.frame: 3290 × 2</caption>\n",
       "<thead>\n",
       "\t<tr><th scope=col>mhr</th><th scope=col>Appliances</th></tr>\n",
       "\t<tr><th scope=col>&lt;dttm&gt;</th><th scope=col>&lt;int&gt;</th></tr>\n",
       "</thead>\n",
       "<tbody>\n",
       "\t<tr><td>2016-01-11 17:00:00</td><td> 330</td></tr>\n",
       "\t<tr><td>2016-01-11 18:00:00</td><td>1060</td></tr>\n",
       "\t<tr><td>2016-01-11 19:00:00</td><td>1040</td></tr>\n",
       "\t<tr><td>2016-01-11 20:00:00</td><td> 750</td></tr>\n",
       "\t<tr><td>2016-01-11 21:00:00</td><td> 620</td></tr>\n",
       "\t<tr><td>2016-01-11 22:00:00</td><td>1600</td></tr>\n",
       "\t<tr><td>2016-01-11 23:00:00</td><td> 340</td></tr>\n",
       "\t<tr><td>2016-01-12 00:00:00</td><td> 850</td></tr>\n",
       "\t<tr><td>2016-01-12 01:00:00</td><td>1010</td></tr>\n",
       "\t<tr><td>2016-01-12 02:00:00</td><td> 270</td></tr>\n",
       "\t<tr><td>2016-01-12 03:00:00</td><td> 210</td></tr>\n",
       "\t<tr><td>2016-01-12 04:00:00</td><td> 270</td></tr>\n",
       "\t<tr><td>2016-01-12 05:00:00</td><td> 260</td></tr>\n",
       "\t<tr><td>2016-01-12 06:00:00</td><td> 240</td></tr>\n",
       "\t<tr><td>2016-01-12 07:00:00</td><td> 340</td></tr>\n",
       "\t<tr><td>2016-01-12 08:00:00</td><td> 520</td></tr>\n",
       "\t<tr><td>2016-01-12 09:00:00</td><td> 260</td></tr>\n",
       "\t<tr><td>2016-01-12 10:00:00</td><td>1380</td></tr>\n",
       "\t<tr><td>2016-01-12 11:00:00</td><td> 330</td></tr>\n",
       "\t<tr><td>2016-01-12 12:00:00</td><td>1120</td></tr>\n",
       "\t<tr><td>2016-01-12 13:00:00</td><td> 910</td></tr>\n",
       "\t<tr><td>2016-01-12 14:00:00</td><td> 820</td></tr>\n",
       "\t<tr><td>2016-01-12 15:00:00</td><td> 220</td></tr>\n",
       "\t<tr><td>2016-01-12 16:00:00</td><td> 240</td></tr>\n",
       "\t<tr><td>2016-01-12 17:00:00</td><td>1310</td></tr>\n",
       "\t<tr><td>2016-01-12 18:00:00</td><td> 350</td></tr>\n",
       "\t<tr><td>2016-01-12 19:00:00</td><td> 330</td></tr>\n",
       "\t<tr><td>2016-01-12 20:00:00</td><td> 310</td></tr>\n",
       "\t<tr><td>2016-01-12 21:00:00</td><td> 250</td></tr>\n",
       "\t<tr><td>2016-01-12 22:00:00</td><td> 280</td></tr>\n",
       "\t<tr><td>...</td><td>...</td></tr>\n",
       "\t<tr><td>2016-05-26 13:00:00</td><td> 450</td></tr>\n",
       "\t<tr><td>2016-05-26 14:00:00</td><td> 410</td></tr>\n",
       "\t<tr><td>2016-05-26 15:00:00</td><td> 370</td></tr>\n",
       "\t<tr><td>2016-05-26 16:00:00</td><td>2970</td></tr>\n",
       "\t<tr><td>2016-05-26 17:00:00</td><td>2640</td></tr>\n",
       "\t<tr><td>2016-05-26 18:00:00</td><td>1290</td></tr>\n",
       "\t<tr><td>2016-05-26 19:00:00</td><td>1340</td></tr>\n",
       "\t<tr><td>2016-05-26 20:00:00</td><td> 550</td></tr>\n",
       "\t<tr><td>2016-05-26 21:00:00</td><td> 460</td></tr>\n",
       "\t<tr><td>2016-05-26 22:00:00</td><td> 420</td></tr>\n",
       "\t<tr><td>2016-05-26 23:00:00</td><td> 390</td></tr>\n",
       "\t<tr><td>2016-05-27 00:00:00</td><td> 360</td></tr>\n",
       "\t<tr><td>2016-05-27 01:00:00</td><td> 350</td></tr>\n",
       "\t<tr><td>2016-05-27 02:00:00</td><td> 300</td></tr>\n",
       "\t<tr><td>2016-05-27 03:00:00</td><td> 350</td></tr>\n",
       "\t<tr><td>2016-05-27 04:00:00</td><td> 350</td></tr>\n",
       "\t<tr><td>2016-05-27 05:00:00</td><td> 350</td></tr>\n",
       "\t<tr><td>2016-05-27 06:00:00</td><td> 380</td></tr>\n",
       "\t<tr><td>2016-05-27 07:00:00</td><td> 670</td></tr>\n",
       "\t<tr><td>2016-05-27 08:00:00</td><td> 780</td></tr>\n",
       "\t<tr><td>2016-05-27 09:00:00</td><td>1510</td></tr>\n",
       "\t<tr><td>2016-05-27 10:00:00</td><td>1510</td></tr>\n",
       "\t<tr><td>2016-05-27 11:00:00</td><td>1860</td></tr>\n",
       "\t<tr><td>2016-05-27 12:00:00</td><td>1110</td></tr>\n",
       "\t<tr><td>2016-05-27 13:00:00</td><td>1590</td></tr>\n",
       "\t<tr><td>2016-05-27 14:00:00</td><td> 610</td></tr>\n",
       "\t<tr><td>2016-05-27 15:00:00</td><td> 460</td></tr>\n",
       "\t<tr><td>2016-05-27 16:00:00</td><td> 810</td></tr>\n",
       "\t<tr><td>2016-05-27 17:00:00</td><td>1080</td></tr>\n",
       "\t<tr><td>2016-05-27 18:00:00</td><td> 430</td></tr>\n",
       "</tbody>\n",
       "</table>\n"
      ],
      "text/latex": [
       "A data.frame: 3290 × 2\n",
       "\\begin{tabular}{ll}\n",
       " mhr & Appliances\\\\\n",
       " <dttm> & <int>\\\\\n",
       "\\hline\n",
       "\t 2016-01-11 17:00:00 &  330\\\\\n",
       "\t 2016-01-11 18:00:00 & 1060\\\\\n",
       "\t 2016-01-11 19:00:00 & 1040\\\\\n",
       "\t 2016-01-11 20:00:00 &  750\\\\\n",
       "\t 2016-01-11 21:00:00 &  620\\\\\n",
       "\t 2016-01-11 22:00:00 & 1600\\\\\n",
       "\t 2016-01-11 23:00:00 &  340\\\\\n",
       "\t 2016-01-12 00:00:00 &  850\\\\\n",
       "\t 2016-01-12 01:00:00 & 1010\\\\\n",
       "\t 2016-01-12 02:00:00 &  270\\\\\n",
       "\t 2016-01-12 03:00:00 &  210\\\\\n",
       "\t 2016-01-12 04:00:00 &  270\\\\\n",
       "\t 2016-01-12 05:00:00 &  260\\\\\n",
       "\t 2016-01-12 06:00:00 &  240\\\\\n",
       "\t 2016-01-12 07:00:00 &  340\\\\\n",
       "\t 2016-01-12 08:00:00 &  520\\\\\n",
       "\t 2016-01-12 09:00:00 &  260\\\\\n",
       "\t 2016-01-12 10:00:00 & 1380\\\\\n",
       "\t 2016-01-12 11:00:00 &  330\\\\\n",
       "\t 2016-01-12 12:00:00 & 1120\\\\\n",
       "\t 2016-01-12 13:00:00 &  910\\\\\n",
       "\t 2016-01-12 14:00:00 &  820\\\\\n",
       "\t 2016-01-12 15:00:00 &  220\\\\\n",
       "\t 2016-01-12 16:00:00 &  240\\\\\n",
       "\t 2016-01-12 17:00:00 & 1310\\\\\n",
       "\t 2016-01-12 18:00:00 &  350\\\\\n",
       "\t 2016-01-12 19:00:00 &  330\\\\\n",
       "\t 2016-01-12 20:00:00 &  310\\\\\n",
       "\t 2016-01-12 21:00:00 &  250\\\\\n",
       "\t 2016-01-12 22:00:00 &  280\\\\\n",
       "\t ... & ...\\\\\n",
       "\t 2016-05-26 13:00:00 &  450\\\\\n",
       "\t 2016-05-26 14:00:00 &  410\\\\\n",
       "\t 2016-05-26 15:00:00 &  370\\\\\n",
       "\t 2016-05-26 16:00:00 & 2970\\\\\n",
       "\t 2016-05-26 17:00:00 & 2640\\\\\n",
       "\t 2016-05-26 18:00:00 & 1290\\\\\n",
       "\t 2016-05-26 19:00:00 & 1340\\\\\n",
       "\t 2016-05-26 20:00:00 &  550\\\\\n",
       "\t 2016-05-26 21:00:00 &  460\\\\\n",
       "\t 2016-05-26 22:00:00 &  420\\\\\n",
       "\t 2016-05-26 23:00:00 &  390\\\\\n",
       "\t 2016-05-27 00:00:00 &  360\\\\\n",
       "\t 2016-05-27 01:00:00 &  350\\\\\n",
       "\t 2016-05-27 02:00:00 &  300\\\\\n",
       "\t 2016-05-27 03:00:00 &  350\\\\\n",
       "\t 2016-05-27 04:00:00 &  350\\\\\n",
       "\t 2016-05-27 05:00:00 &  350\\\\\n",
       "\t 2016-05-27 06:00:00 &  380\\\\\n",
       "\t 2016-05-27 07:00:00 &  670\\\\\n",
       "\t 2016-05-27 08:00:00 &  780\\\\\n",
       "\t 2016-05-27 09:00:00 & 1510\\\\\n",
       "\t 2016-05-27 10:00:00 & 1510\\\\\n",
       "\t 2016-05-27 11:00:00 & 1860\\\\\n",
       "\t 2016-05-27 12:00:00 & 1110\\\\\n",
       "\t 2016-05-27 13:00:00 & 1590\\\\\n",
       "\t 2016-05-27 14:00:00 &  610\\\\\n",
       "\t 2016-05-27 15:00:00 &  460\\\\\n",
       "\t 2016-05-27 16:00:00 &  810\\\\\n",
       "\t 2016-05-27 17:00:00 & 1080\\\\\n",
       "\t 2016-05-27 18:00:00 &  430\\\\\n",
       "\\end{tabular}\n"
      ],
      "text/markdown": [
       "\n",
       "A data.frame: 3290 × 2\n",
       "\n",
       "| mhr &lt;dttm&gt; | Appliances &lt;int&gt; |\n",
       "|---|---|\n",
       "| 2016-01-11 17:00:00 |  330 |\n",
       "| 2016-01-11 18:00:00 | 1060 |\n",
       "| 2016-01-11 19:00:00 | 1040 |\n",
       "| 2016-01-11 20:00:00 |  750 |\n",
       "| 2016-01-11 21:00:00 |  620 |\n",
       "| 2016-01-11 22:00:00 | 1600 |\n",
       "| 2016-01-11 23:00:00 |  340 |\n",
       "| 2016-01-12 00:00:00 |  850 |\n",
       "| 2016-01-12 01:00:00 | 1010 |\n",
       "| 2016-01-12 02:00:00 |  270 |\n",
       "| 2016-01-12 03:00:00 |  210 |\n",
       "| 2016-01-12 04:00:00 |  270 |\n",
       "| 2016-01-12 05:00:00 |  260 |\n",
       "| 2016-01-12 06:00:00 |  240 |\n",
       "| 2016-01-12 07:00:00 |  340 |\n",
       "| 2016-01-12 08:00:00 |  520 |\n",
       "| 2016-01-12 09:00:00 |  260 |\n",
       "| 2016-01-12 10:00:00 | 1380 |\n",
       "| 2016-01-12 11:00:00 |  330 |\n",
       "| 2016-01-12 12:00:00 | 1120 |\n",
       "| 2016-01-12 13:00:00 |  910 |\n",
       "| 2016-01-12 14:00:00 |  820 |\n",
       "| 2016-01-12 15:00:00 |  220 |\n",
       "| 2016-01-12 16:00:00 |  240 |\n",
       "| 2016-01-12 17:00:00 | 1310 |\n",
       "| 2016-01-12 18:00:00 |  350 |\n",
       "| 2016-01-12 19:00:00 |  330 |\n",
       "| 2016-01-12 20:00:00 |  310 |\n",
       "| 2016-01-12 21:00:00 |  250 |\n",
       "| 2016-01-12 22:00:00 |  280 |\n",
       "| ... | ... |\n",
       "| 2016-05-26 13:00:00 |  450 |\n",
       "| 2016-05-26 14:00:00 |  410 |\n",
       "| 2016-05-26 15:00:00 |  370 |\n",
       "| 2016-05-26 16:00:00 | 2970 |\n",
       "| 2016-05-26 17:00:00 | 2640 |\n",
       "| 2016-05-26 18:00:00 | 1290 |\n",
       "| 2016-05-26 19:00:00 | 1340 |\n",
       "| 2016-05-26 20:00:00 |  550 |\n",
       "| 2016-05-26 21:00:00 |  460 |\n",
       "| 2016-05-26 22:00:00 |  420 |\n",
       "| 2016-05-26 23:00:00 |  390 |\n",
       "| 2016-05-27 00:00:00 |  360 |\n",
       "| 2016-05-27 01:00:00 |  350 |\n",
       "| 2016-05-27 02:00:00 |  300 |\n",
       "| 2016-05-27 03:00:00 |  350 |\n",
       "| 2016-05-27 04:00:00 |  350 |\n",
       "| 2016-05-27 05:00:00 |  350 |\n",
       "| 2016-05-27 06:00:00 |  380 |\n",
       "| 2016-05-27 07:00:00 |  670 |\n",
       "| 2016-05-27 08:00:00 |  780 |\n",
       "| 2016-05-27 09:00:00 | 1510 |\n",
       "| 2016-05-27 10:00:00 | 1510 |\n",
       "| 2016-05-27 11:00:00 | 1860 |\n",
       "| 2016-05-27 12:00:00 | 1110 |\n",
       "| 2016-05-27 13:00:00 | 1590 |\n",
       "| 2016-05-27 14:00:00 |  610 |\n",
       "| 2016-05-27 15:00:00 |  460 |\n",
       "| 2016-05-27 16:00:00 |  810 |\n",
       "| 2016-05-27 17:00:00 | 1080 |\n",
       "| 2016-05-27 18:00:00 |  430 |\n",
       "\n"
      ],
      "text/plain": [
       "     mhr                 Appliances\n",
       "1    2016-01-11 17:00:00  330      \n",
       "2    2016-01-11 18:00:00 1060      \n",
       "3    2016-01-11 19:00:00 1040      \n",
       "4    2016-01-11 20:00:00  750      \n",
       "5    2016-01-11 21:00:00  620      \n",
       "6    2016-01-11 22:00:00 1600      \n",
       "7    2016-01-11 23:00:00  340      \n",
       "8    2016-01-12 00:00:00  850      \n",
       "9    2016-01-12 01:00:00 1010      \n",
       "10   2016-01-12 02:00:00  270      \n",
       "11   2016-01-12 03:00:00  210      \n",
       "12   2016-01-12 04:00:00  270      \n",
       "13   2016-01-12 05:00:00  260      \n",
       "14   2016-01-12 06:00:00  240      \n",
       "15   2016-01-12 07:00:00  340      \n",
       "16   2016-01-12 08:00:00  520      \n",
       "17   2016-01-12 09:00:00  260      \n",
       "18   2016-01-12 10:00:00 1380      \n",
       "19   2016-01-12 11:00:00  330      \n",
       "20   2016-01-12 12:00:00 1120      \n",
       "21   2016-01-12 13:00:00  910      \n",
       "22   2016-01-12 14:00:00  820      \n",
       "23   2016-01-12 15:00:00  220      \n",
       "24   2016-01-12 16:00:00  240      \n",
       "25   2016-01-12 17:00:00 1310      \n",
       "26   2016-01-12 18:00:00  350      \n",
       "27   2016-01-12 19:00:00  330      \n",
       "28   2016-01-12 20:00:00  310      \n",
       "29   2016-01-12 21:00:00  250      \n",
       "30   2016-01-12 22:00:00  280      \n",
       "...  ...                 ...       \n",
       "3261 2016-05-26 13:00:00  450      \n",
       "3262 2016-05-26 14:00:00  410      \n",
       "3263 2016-05-26 15:00:00  370      \n",
       "3264 2016-05-26 16:00:00 2970      \n",
       "3265 2016-05-26 17:00:00 2640      \n",
       "3266 2016-05-26 18:00:00 1290      \n",
       "3267 2016-05-26 19:00:00 1340      \n",
       "3268 2016-05-26 20:00:00  550      \n",
       "3269 2016-05-26 21:00:00  460      \n",
       "3270 2016-05-26 22:00:00  420      \n",
       "3271 2016-05-26 23:00:00  390      \n",
       "3272 2016-05-27 00:00:00  360      \n",
       "3273 2016-05-27 01:00:00  350      \n",
       "3274 2016-05-27 02:00:00  300      \n",
       "3275 2016-05-27 03:00:00  350      \n",
       "3276 2016-05-27 04:00:00  350      \n",
       "3277 2016-05-27 05:00:00  350      \n",
       "3278 2016-05-27 06:00:00  380      \n",
       "3279 2016-05-27 07:00:00  670      \n",
       "3280 2016-05-27 08:00:00  780      \n",
       "3281 2016-05-27 09:00:00 1510      \n",
       "3282 2016-05-27 10:00:00 1510      \n",
       "3283 2016-05-27 11:00:00 1860      \n",
       "3284 2016-05-27 12:00:00 1110      \n",
       "3285 2016-05-27 13:00:00 1590      \n",
       "3286 2016-05-27 14:00:00  610      \n",
       "3287 2016-05-27 15:00:00  460      \n",
       "3288 2016-05-27 16:00:00  810      \n",
       "3289 2016-05-27 17:00:00 1080      \n",
       "3290 2016-05-27 18:00:00  430      "
      ]
     },
     "metadata": {},
     "output_type": "display_data"
    }
   ],
   "source": [
    "energy_data$my <- floor_date(energy_data$date,\"month\")\n",
    "\n",
    "\n",
    "energy_data$mhr <- floor_date(energy_data$date,\"hour\")\n",
    "\n",
    "library(plyr)\n",
    "energy_data_Total_per_hour <-  ddply(energy_data, \"mhr\", summarise,\n",
    "                                     Appliances=sum(Appliances))\n",
    "\n",
    "energy_data_Total_per_hour\n",
    "\n",
    "energy_data_Total_per_hour$Day_week <- wday(energy_data_Total_per_hour$mhr,label=TRUE)\n"
   ]
  },
  {
   "cell_type": "code",
   "execution_count": 13,
   "id": "bb34d5b3-4276-481d-8125-3cd2ce4e15f0",
   "metadata": {},
   "outputs": [],
   "source": [
    "energy_data_Total_per_hour_na_removed <- na.omit(energy_data_Total_per_hour)"
   ]
  },
  {
   "cell_type": "code",
   "execution_count": null,
   "id": "cc2259f2-5567-4ff0-82f4-69b0a312ff84",
   "metadata": {},
   "outputs": [],
   "source": []
  }
 ],
 "metadata": {
  "kernelspec": {
   "display_name": "R",
   "language": "R",
   "name": "ir"
  },
  "language_info": {
   "codemirror_mode": "r",
   "file_extension": ".r",
   "mimetype": "text/x-r-source",
   "name": "R",
   "pygments_lexer": "r",
   "version": "4.1.1"
  }
 },
 "nbformat": 4,
 "nbformat_minor": 5
}
